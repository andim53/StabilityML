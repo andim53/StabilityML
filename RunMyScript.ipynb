{
 "cells": [
  {
   "cell_type": "markdown",
   "id": "6a1bf669-6df9-4bfc-ad64-2208adae6c8b",
   "metadata": {},
   "source": [
    "# Previous working script"
   ]
  },
  {
   "cell_type": "code",
   "execution_count": 4,
   "id": "e4d82398-05c6-428c-b51a-61e9b74fe590",
   "metadata": {},
   "outputs": [],
   "source": [
    "from pymatgen.ext.matproj import MPRester"
   ]
  },
  {
   "cell_type": "code",
   "execution_count": 6,
   "id": "bb1f16a2-142f-4f08-b74b-7fc7c4441210",
   "metadata": {},
   "outputs": [],
   "source": [
    "import mlstabilitytest\n",
    "import automatminer"
   ]
  },
  {
   "cell_type": "code",
   "execution_count": 48,
   "id": "f5a6daca-d156-4b9b-acee-8bc43f8b4d3e",
   "metadata": {
    "collapsed": true,
    "jupyter": {
     "outputs_hidden": true
    },
    "tags": []
   },
   "outputs": [
    {
     "name": "stdout",
     "output_type": "stream",
     "text": [
      "\n",
      "____ models trained on Ef ____\n",
      "\n",
      "\n",
      " ~~~ LiMnTMO ~~~\n",
      "\n"
     ]
    },
    {
     "ename": "FileNotFoundError",
     "evalue": "[Errno 2] No such file or directory: '/home/andi/TestStabilityML/ml_data/Ef/LiMnTMO'",
     "output_type": "error",
     "traceback": [
      "\u001b[0;31m---------------------------------------------------------------------------\u001b[0m",
      "\u001b[0;31mFileNotFoundError\u001b[0m                         Traceback (most recent call last)",
      "Cell \u001b[0;32mIn[48], line 23\u001b[0m\n\u001b[1;32m     21\u001b[0m \u001b[38;5;28;01mif\u001b[39;00m ((\u001b[38;5;124m'\u001b[39m\u001b[38;5;124mrandom\u001b[39m\u001b[38;5;124m'\u001b[39m \u001b[38;5;129;01mnot\u001b[39;00m \u001b[38;5;129;01min\u001b[39;00m experiment) \u001b[38;5;129;01mand\u001b[39;00m (training_prop \u001b[38;5;241m==\u001b[39m \u001b[38;5;124m'\u001b[39m\u001b[38;5;124mEd\u001b[39m\u001b[38;5;124m'\u001b[39m)) \u001b[38;5;129;01mor\u001b[39;00m ((experiment \u001b[38;5;241m!=\u001b[39m \u001b[38;5;124m'\u001b[39m\u001b[38;5;124mclassifier\u001b[39m\u001b[38;5;124m'\u001b[39m) \u001b[38;5;129;01mand\u001b[39;00m (training_prop \u001b[38;5;241m==\u001b[39m \u001b[38;5;124m'\u001b[39m\u001b[38;5;124mEf\u001b[39m\u001b[38;5;124m'\u001b[39m)):\n\u001b[1;32m     22\u001b[0m     \u001b[38;5;28;01mif\u001b[39;00m \u001b[38;5;129;01mnot\u001b[39;00m os\u001b[38;5;241m.\u001b[39mpath\u001b[38;5;241m.\u001b[39mexists(experiment_dir):\n\u001b[0;32m---> 23\u001b[0m         \u001b[43mos\u001b[49m\u001b[38;5;241;43m.\u001b[39;49m\u001b[43mmkdir\u001b[49m\u001b[43m(\u001b[49m\u001b[43mexperiment_dir\u001b[49m\u001b[43m)\u001b[49m\n\u001b[1;32m     24\u001b[0m \u001b[38;5;28;01mfor\u001b[39;00m model \u001b[38;5;129;01min\u001b[39;00m models:\n\u001b[1;32m     25\u001b[0m     \u001b[38;5;28mprint\u001b[39m(\u001b[38;5;124m'\u001b[39m\u001b[38;5;130;01m\\n\u001b[39;00m\u001b[38;5;124m \u001b[39m\u001b[38;5;132;01m%s\u001b[39;00m\u001b[38;5;124m \u001b[39m\u001b[38;5;124m'\u001b[39m \u001b[38;5;241m%\u001b[39m model)\n",
      "\u001b[0;31mFileNotFoundError\u001b[0m: [Errno 2] No such file or directory: '/home/andi/TestStabilityML/ml_data/Ef/LiMnTMO'"
     ]
    }
   ],
   "source": [
    "import os\n",
    "from mlstabilitytest.stability.StabilityAnalysis import StabilityAnalysis, EdAnalysis\n",
    "from shutil import copyfile\n",
    "\n",
    "here = './mlstabilitytest/'\n",
    "\n",
    "models = ['ElFrac', 'Meredig', 'Magpie', 'AutoMat', 'ElemNet', 'Roost', \n",
    "              'CGCNN']\n",
    "experiments = ['LiMnTMO', 'allMP', 'smact',\n",
    "               'random1', 'random2', 'random3',\n",
    "               'classifier']\n",
    "training_props = ['Ef', 'Ed']\n",
    "path_to_ml_data = os.path.join(here, 'ml_data')\n",
    "\n",
    "for training_prop in training_props:\n",
    "    print('\\n____ models trained on %s ____\\n' % training_prop)\n",
    "    for experiment in experiments:\n",
    "        print('\\n ~~~ %s ~~~\\n' % experiment)\n",
    "        experiment_dir = os.path.join(path_to_ml_data, training_prop, experiment)\n",
    "        if (('random' not in experiment) and (training_prop == 'Ed')) or ((experiment != 'classifier') and (training_prop == 'Ef')):\n",
    "            if not os.path.exists(experiment_dir):\n",
    "                os.mkdir(experiment_dir)\n",
    "        for model in models:\n",
    "            print('\\n %s ' % model)\n",
    "            process(training_prop, model, experiment, path_to_ml_data)\n",
    "            \n",
    "def process(training_prop, model, experiment, path_to_ml_data):\n",
    "    \"\"\"\n",
    "    Args:\n",
    "        training_prop (str) - 'Ef' if models trained on formation energies; 'Ed' if decomposition energies\n",
    "        model (str) - ML model\n",
    "        experiment (str) - 'allMP', 'LiMnTMO', or 'smact'\n",
    "        path_to_ml_data (os.PathLike) - path to ml_data directory in .../TestStabilityML/mlstabilitytest/ml_data\n",
    "    \n",
    "    Returns:\n",
    "        Runs all relevant analyses\n",
    "        Prints a summary\n",
    "    \"\"\"\n",
    "    if (model == 'CGCNN') and (experiment == 'smact'):\n",
    "        print('CGCNN cannot be applied directly to the SMACT problem because the structures are not known')\n",
    "        return\n",
    "    if ('random' in experiment) and (training_prop == 'Ed'):\n",
    "        print('Random perturbations only apply to models trained on Ef as written')\n",
    "        return\n",
    "    if (experiment == 'classifier') and (training_prop == 'Ef'):\n",
    "        print('Classifier experiment only applies to training on Ed')\n",
    "        return\n",
    "    if (model == 'CGCNN') and (training_prop == 'Ed'):\n",
    "        print('CGCNN not trained on Ed')\n",
    "        return\n",
    "    data_dir = os.path.join(path_to_ml_data, training_prop, experiment, model)\n",
    "    if not os.path.exists(data_dir):\n",
    "        os.mkdir(data_dir)\n",
    "        \n",
    "    data_file = 'ml_input.json'\n",
    "    finput = os.path.join(data_dir, data_file)\n",
    "    if 'random' in experiment:\n",
    "        src = finput.replace(experiment, 'allMP')\n",
    "        copyfile(src, finput)\n",
    "    if not os.path.exists(finput):\n",
    "        print('missing data for %s-%s' % (model, experiment))\n",
    "        return\n",
    "    if training_prop == 'Ef':\n",
    "        nprocs = 'all'\n",
    "        obj = StabilityAnalysis(data_dir,\n",
    "                                data_file,\n",
    "                                experiment,\n",
    "                                nprocs=nprocs)\n",
    "    elif training_prop == 'Ed':\n",
    "        obj = EdAnalysis(data_dir,\n",
    "                         data_file,\n",
    "                         experiment)\n",
    "    else:\n",
    "        raise NotImplementedError\n",
    "    obj.results_summary\n",
    "    print('got results')\n",
    "    return"
   ]
  },
  {
   "cell_type": "markdown",
   "id": "6fd0c211-c28e-43e3-b9bd-8ea5dfbd6dc2",
   "metadata": {},
   "source": [
    "# Testing working script "
   ]
  },
  {
   "cell_type": "code",
   "execution_count": 40,
   "id": "f100523a-40bd-4b98-985e-fe4c3cdaba05",
   "metadata": {
    "collapsed": true,
    "jupyter": {
     "outputs_hidden": true,
     "source_hidden": true
    },
    "tags": []
   },
   "outputs": [
    {
     "name": "stdout",
     "output_type": "stream",
     "text": [
      "\n",
      "Checking input data...\n",
      "Data looks good.\n",
      "Time elapsed = 5 s.\n",
      "\n",
      "Reading existing results file: ./mlstabilitytest/ml_data/Ed/allMP/Magpie/ml_results.json\n",
      "\n",
      "Summarizing performance...\n",
      "\n",
      "MAE on decomposition enthalpy = 0.092 eV/atom\n",
      "\n",
      "\n",
      "Classifying stable or unstable:\n",
      "Precision = 0.714\n",
      "Recall = 0.379\n",
      "Accuracy = 0.691\n",
      "F1 = 0.495\n",
      "FPR = 0.101\n",
      "\n",
      "Confusion matrix:\n",
      "TP | FP\n",
      "FN | TN = \n",
      "12886 | 5160\n",
      "21112 | 45856\n",
      "\n",
      "Time elapsed = 0 s\n",
      "got results\n"
     ]
    }
   ],
   "source": [
    "import os\n",
    "from mlstabilitytest.stability.StabilityAnalysis import StabilityAnalysis, EdAnalysis\n",
    "from shutil import copyfile\n",
    "\n",
    "here = './mlstabilitytest/'\n",
    "path_to_ml_data = os.path.join(here, 'ml_data')\n",
    "\n",
    "model = 'Magpie'\n",
    "experiment = 'allMP'\n",
    "training_prop = 'Ed'\n",
    "\n",
    "process(training_prop, model, experiment, path_to_ml_data)"
   ]
  },
  {
   "cell_type": "markdown",
   "id": "fcdcee5e-722f-491c-9a06-fd31e889893e",
   "metadata": {},
   "source": [
    "# Testing script for decomposition only"
   ]
  },
  {
   "cell_type": "code",
   "execution_count": 39,
   "id": "dbae985c-9337-49c7-a401-c57a7b6f18b0",
   "metadata": {
    "collapsed": true,
    "jupyter": {
     "outputs_hidden": true
    },
    "tags": []
   },
   "outputs": [
    {
     "name": "stdout",
     "output_type": "stream",
     "text": [
      "\n",
      "Checking input data...\n",
      "Data looks good.\n",
      "Time elapsed = 0 s.\n",
      "\n",
      "Reading existing results file: ./mlstabilitytest/ml_data/Ef/LiMnTMO/Magpie/ml_results.json\n",
      "\n",
      "Summarizing performance...\n",
      "\n",
      "MAE on decomposition enthalpy = 0.052 eV/atom\n",
      "\n",
      "\n",
      "Classifying stable or unstable:\n",
      "Precision = 0.036\n",
      "Recall = 0.111\n",
      "Accuracy = 0.869\n",
      "F1 = 0.054\n",
      "FPR = 0.105\n",
      "\n",
      "Confusion matrix:\n",
      "TP | FP\n",
      "FN | TN = \n",
      "1 | 27\n",
      "8 | 231\n",
      "\n",
      "Time elapsed = 0 s\n"
     ]
    }
   ],
   "source": [
    "import os\n",
    "from mlstabilitytest.stability.StabilityAnalysis import EdAnalysis\n",
    "from shutil import copyfile\n",
    "\n",
    "here = './mlstabilitytest/'\n",
    "\n",
    "# models = ['ElFrac', 'Meredig', 'Magpie', 'AutoMat', 'ElemNet', 'Roost', \n",
    "#               'CGCNN']\n",
    "model = 'Magpie'\n",
    "\n",
    "experiment = 'LiMnTMO'\n",
    "training_props = 'Ed'\n",
    "path_to_ml_data = os.path.join(here, 'ml_data')\n",
    "\n",
    "\n",
    "data_dir = os.path.join(path_to_ml_data, training_prop, experiment, model)\n",
    "data_file = 'ml_input.json'\n",
    "\n",
    "obj = EdAnalysis(data_dir, data_file, experiment)\n",
    "\n",
    "obj.results_summary"
   ]
  }
 ],
 "metadata": {
  "kernelspec": {
   "display_name": "StabilityML",
   "language": "python",
   "name": "stabilityml"
  },
  "language_info": {
   "codemirror_mode": {
    "name": "ipython",
    "version": 3
   },
   "file_extension": ".py",
   "mimetype": "text/x-python",
   "name": "python",
   "nbconvert_exporter": "python",
   "pygments_lexer": "ipython3",
   "version": "3.11.6"
  },
  "toc-autonumbering": true
 },
 "nbformat": 4,
 "nbformat_minor": 5
}
